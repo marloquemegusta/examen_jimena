{
 "cells": [
  {
   "cell_type": "markdown",
   "metadata": {},
   "source": [
    "# 2WH20 Final Test on Wed 13 Apr 2022, 09:00–12:00\n",
    "## Programming\n",
    "\n",
    "<div class=\"alert alert-warning\" role=\"alert\">\n",
    "    <b>ALWAYS RUN THIS NOTEBOOK WITH <code>Kernel > Restart & Run All</code> BEFORE SUBMITTING</b>\n",
    "</div>"
   ]
  },
  {
   "cell_type": "markdown",
   "metadata": {},
   "source": [
    "\n",
    "# Introduction to this template exam notebook\n",
    "\n",
    "* This is a **personal** notebook. \n",
    "* Make sure you work in a **copy** of `...-template.ipynb`,\n",
    "    **renamed** to `...-yourIDnr.ipynb`,\n",
    "    where `yourIDnr` is your TU/e identification number.  \n",
    "\n",
    "You are expected to work with Python 3 code in this notebook.\n",
    "\n",
    "The locations where you must write your answers can be recognized by\n",
    "**marker lines**,\n",
    "which look like this:\n",
    "\n",
    ">`#//`\n",
    ">    `BEGIN_TODO [Label]` `Description` `(n points)`\n",
    ">\n",
    ">`#//`\n",
    ">    `END_TODO [Label]`\n",
    "\n",
    "<div class=\"alert alert-warning\" role=\"alert\">Do NOT modify or delete these marker lines.  Keep them as they are.<br/>\n",
    "<br/>\n",
    "NEVER write code that is needed for grading <i>outside</i> the marked blocks.\n",
    "It is invisible there.\n",
    "</div>\n",
    "\n",
    "Proceed in this notebook as follows:\n",
    "* **Personalize** the notebook (see below)\n",
    "* **Read** the text.\n",
    "* **Fill in** your answers between `BEGIN_TODO` and `END_TODO` marker lines.\n",
    "* **Run** _all_ code cells (also the ones _without_ your code),\n",
    "    _in linear order_ from the first code cell.\n",
    "\n",
    "**Personalize your notebook**:\n",
    "1. Copy the following lines of code:\n",
    "\n",
    "  ```python\n",
    "  AUTHOR_NAME = 'Your Full Name'\n",
    "  AUTHOR_ID_NR = '1234567'\n",
    "  AUTHOR_DATE = 'YYYY-MM-DD'  # when first modified, e.g. '2019-04-18'\n",
    "  ```\n",
    "\n",
    "1. Paste them between the marker lines in the next code cell.\n",
    "1. Fill in your _full name_, _identification number_, and the current _date_ as strings between quotes.\n",
    "1. Run the code cell by putting the cursor there and typing **Control-Enter**.\n"
   ]
  },
  {
   "cell_type": "code",
   "execution_count": null,
   "metadata": {},
   "outputs": [],
   "source": [
    "#// BEGIN_TODO [Author] Name, Id.nr., Date, as strings (0 points)\n",
    "\n",
    "# ===== =====> Replace this line by your code. <===== ===== #\n",
    "\n",
    "#// END_TODO [Author]\n",
    "\n",
    "AUTHOR_NAME, AUTHOR_ID_NR, AUTHOR_DATE"
   ]
  },
  {
   "cell_type": "markdown",
   "metadata": {},
   "source": [
    "## Preliminaries\n",
    "\n",
    "This final test consists of _three_ questions,\n",
    "with _seven_ subquestions in total, for a maximum total of _50 points._\n",
    "\n",
    "**Notes** state requirements.\n",
    "It is obligatory to follow these for the maximum score.\n",
    "\n",
    "**Hints** are helpful suggestions and reminders.\n",
    "\n",
    "**Notes**:\n",
    "\n",
    "For all functions and methods that you are asked to define:\n",
    "* Include *type hints*.\n",
    "* Include documentation in the form of a *docstring*, with assumptions.\n",
    "* Unless otherwise stated, include *adequate doctest examples*.  \n",
    "  Doctest examples are only required for the primary functions;\n",
    "  that is, not for _auxiliary_ functions that you introduce yourself.\n",
    "  \n",
    "**Hints**:\n",
    "* When you do not succeed in solving part of a question,\n",
    "  proceed to the next part, assuming that solutions for preceding parts are available.  \n",
    "  (Of course, this does make it harder for you to test your code,\n",
    "  but you can define a 'dummy' solution to be able to run your code.)"
   ]
  },
  {
   "cell_type": "code",
   "execution_count": null,
   "metadata": {},
   "outputs": [],
   "source": [
    "# import some useful facilities\n",
    "\n",
    "import random\n",
    "import math\n",
    "import string\n",
    "from collections import defaultdict, Counter, deque\n",
    "from typing import List, Tuple, Set, FrozenSet, Dict, Iterator, Iterable\n",
    "from typing import Any, Optional, Sequence, Mapping, Counter, Deque\n",
    "from itertools import product, chain, islice\n",
    "import doctest\n",
    "from pprint import pprint\n",
    "def _ip():\n",
    "    global _ip\n",
    "    import urllib.request\n",
    "    try:\n",
    "        return urllib.request.urlopen(\"https://api.ipify.org/\").read().decode()\n",
    "    except:\n",
    "        pass\n",
    "    finally:\n",
    "        del _ip\n",
    "_ip()"
   ]
  },
  {
   "cell_type": "markdown",
   "metadata": {},
   "source": [
    "## 0. Laptop Exam Specials"
   ]
  },
  {
   "cell_type": "markdown",
   "metadata": {},
   "source": [
    "### 0.a. Declaration of trust\n",
    "\n",
    "Please read the following paragraph carefully, and acknowledge that you have done so\n",
    "in the next code cell.\n",
    "\n",
    "> By testing you with internet access in this fashion,\n",
    "> we express our trust that you will adhere\n",
    "> to the ethical standard of behaviour expected of you.\n",
    "> This means that we trust you to answer the questions and\n",
    "> perform the assignments in this test to the best of your own ability,\n",
    "> without seeking or accepting the help of any source\n",
    "> that is not explicitly allowed by the conditions of this test.\n",
    "\n",
    "Acknowledge by assigning the boolean value `True` to the variable `I_confirm`:"
   ]
  },
  {
   "cell_type": "code",
   "execution_count": null,
   "metadata": {},
   "outputs": [],
   "source": [
    "I_confirm: Optional[bool] = None\n",
    "\n",
    "#// BEGIN_TODO [Declaration] Confirm by assigning True to I_confirm\n",
    "\n",
    "# ===== =====> Replace this line by your code. <===== ===== #\n",
    "\n",
    "#// END_TODO [Declaration]\n",
    "\n",
    "I_confirm"
   ]
  },
  {
   "cell_type": "markdown",
   "metadata": {},
   "source": [
    "### 0.b. Remarks from the student\n",
    "\n",
    "In the following text cell, you can report any irregularities\n",
    "that occurred during the exam."
   ]
  },
  {
   "cell_type": "markdown",
   "metadata": {},
   "source": [
    "`#// BEGIN_TODO [Remarks] Remarks about irregularities during exam`\n",
    "\n",
    "<div class='alert alert-warning' role='alert'>Replace this line by your text.</div>\n",
    "\n",
    "`#// END_TODO [Remarks]`"
   ]
  },
  {
   "attachments": {
    "tree.png": {
     "image/png": "[encoded data removed]"
    }
   },
   "cell_type": "markdown",
   "metadata": {},
   "source": [
    "## 1. Trees (15 points)\n",
    "\n",
    "![tree.png](attachment:tree.png)"
   ]
  },
  {
   "cell_type": "markdown",
   "metadata": {},
   "source": [
    "The diagram above shows a (computer science) _tree_.\n",
    "We encode this tree in the following dictionary `tree_1`,\n",
    "where `tree_1[v]` is the node to which the arrow from `v` leads:"
   ]
  },
  {
   "cell_type": "code",
   "execution_count": null,
   "metadata": {},
   "outputs": [],
   "source": [
    "Node = str\n",
    "Tree = Mapping[Node, Node]\n",
    "\n",
    "tree_1: Tree = {\n",
    "    'B': 'A', 'C': 'A', 'D': 'A',\n",
    "    'E': 'B', 'F': 'B',\n",
    "    'G': 'D',\n",
    "    'H': 'F', 'J': 'F'\n",
    "}\n",
    "tree_1"
   ]
  },
  {
   "cell_type": "markdown",
   "metadata": {},
   "source": [
    "In our trees,\n",
    "* there are at least two nodes;\n",
    "* each node, except one node (the so-called *root*), has exactly one _parent_ node\n",
    "  (the arrows in the diagram show the _is-parent_ relationship);\n",
    "* the is-parent relationship is cycle-free.\n",
    "\n",
    "We give the definition of function `tree_nodes`."
   ]
  },
  {
   "cell_type": "code",
   "execution_count": null,
   "metadata": {},
   "outputs": [],
   "source": [
    "def tree_nodes(tree: Tree) -> Set[Node]:\n",
    "    \"\"\"Determine the set of nodes of a tree.\n",
    "    \n",
    "    Example:\n",
    "    \n",
    "    >>> sorted(tree_nodes(tree_1))\n",
    "    ['A', 'B', 'C', 'D', 'E', 'F', 'G', 'H', 'J']\n",
    "    \"\"\"\n",
    "    return set(tree.keys()) | set(tree.values())  # set union"
   ]
  },
  {
   "cell_type": "code",
   "execution_count": null,
   "metadata": {},
   "outputs": [],
   "source": [
    "doctest.run_docstring_examples(tree_nodes, globals(), name='tree_nodes')"
   ]
  },
  {
   "cell_type": "markdown",
   "metadata": {},
   "source": [
    "### 1.a. Parent set"
   ]
  },
  {
   "cell_type": "markdown",
   "metadata": {},
   "source": [
    "Define function `parents` that,\n",
    "given a dictionary of type `Tree` and a set of nodes,\n",
    "returns the set of all parents of the given node set.\n",
    "\n",
    "**Examples**:\n",
    "* `parents(tree_1, {'B', 'D', 'F'})` returns `{'A', 'B'}`\n",
    "* `parents(tree_1, tree_nodes(tree_1))` returns `{'A', 'B', 'D', 'F'}`\n",
    "\n",
    "**Notes**:\n",
    "* Include at least 3 `doctest` examples.  \n",
    "  Choose them wisely.\n",
    "* If a node in the given set does not appear as key in the given tree,\n",
    "  then that node is just ignored.\n",
    "\n",
    "**Hints**:\n",
    "* Don't forget type hints and a docstring.\n",
    "* Use `Set[Node]` as type for a set of nodes.\n",
    "* Be warned that you cannot directly test for a set result\n",
    "  (because it is not ordered; also see the doctest example for `tree_nodes` above).  \n",
    "  Use `sorted(...)` and expect a (sorted) list.\n",
    "* Use a set comprehension to construct the result set."
   ]
  },
  {
   "cell_type": "code",
   "execution_count": null,
   "metadata": {},
   "outputs": [],
   "source": [
    "#// BEGIN_TODO [parents] Determine set of parents (5 points)\n",
    "\n",
    "# ===== =====> Replace this line by your code. <===== ===== #\n",
    "\n",
    "#// END_TODO [parents]"
   ]
  },
  {
   "cell_type": "code",
   "execution_count": null,
   "metadata": {},
   "outputs": [],
   "source": [
    "doctest.run_docstring_examples(parents, globals(), verbose=True, name='parents')"
   ]
  },
  {
   "cell_type": "markdown",
   "metadata": {},
   "source": [
    "### 1.b. Valid tree\n",
    "\n",
    "Define boolean function `valid_tree` that, given a dictionary of type `Tree`,\n",
    "determines whether this is a valid tree:\n",
    "* it has at least two nodes;\n",
    "* it has exactly one root;\n",
    "* it has no cycles.\n",
    "\n",
    "\n",
    "**Examples**:\n",
    "* `valid_tree(tree_1)` returns `True`\n",
    "* `valid_tree({})` returns `False` (no nodes)\n",
    "* `valid_tree({'B': 'A', 'D': 'C'})` returns `False` (two roots)\n",
    "* `valid_tree({'B': 'A', 'D': 'C', 'A': 'B'})` returns `False` (cycle)\n",
    "\n",
    "**Notes**:\n",
    "* Include at least 4 `doctest` examples, to cover all possibilities,\n",
    "  where one of the examples has 1 root and a cycle of length _at least_ 3.\n",
    "\n",
    "**Hints**:\n",
    "* To check the number of roots,\n",
    "  consider the set of values in `tree` that don't appear as key.\n",
    "* To detect cycles:\n",
    "  - Start with the set of _all_ nodes\n",
    "    (cf. function `tree_nodes`).\n",
    "  - Repeatedly apply `parents` until the set no longer changes.  \n",
    "    Use an auxiliary variable to keep track of the previous set\n",
    "    (it can be initialized as the empty set `set()`).\n",
    "  - What are left in that set are nodes that are on a cycle."
   ]
  },
  {
   "cell_type": "code",
   "execution_count": null,
   "metadata": {},
   "outputs": [],
   "source": [
    "#// BEGIN_TODO [valid_tree] Determine whether tree is valid (10 points)\n",
    "\n",
    "# ===== =====> Replace this line by your code. <===== ===== #\n",
    "\n",
    "#// END_TODO [valid_tree]"
   ]
  },
  {
   "cell_type": "code",
   "execution_count": null,
   "metadata": {},
   "outputs": [],
   "source": [
    "doctest.run_docstring_examples(valid_tree, globals(), verbose=True, name='valid_tree')"
   ]
  },
  {
   "cell_type": "markdown",
   "metadata": {},
   "source": [
    "---"
   ]
  },
  {
   "cell_type": "markdown",
   "metadata": {},
   "source": [
    "## 2. Numbers with Given Digit Sum (20 points)\n",
    "\n",
    "We are interested in integers that have a given digit sum,\n",
    "using decimal notation.\n",
    "\n",
    "**Examples**:\n",
    "* `1234` has digit sum 10."
   ]
  },
  {
   "cell_type": "markdown",
   "metadata": {},
   "source": [
    "### 2.a. Check the digit sum of a number\n",
    "\n",
    "Define function `valid_number` that\n",
    "* given an integer `n` (`n >= 0`) and digit sum `s` (`s >= 0`),\n",
    "* determines whether `n` has digit sum `s` (in decimal notation).\n",
    "\n",
    "**Examples**:\n",
    "* `valid_number(0, 0)` returns `True`\n",
    "* `valid_number(123, 10) ` returns `False`\n",
    "* `valid_number(1234, 10)` returns `True`"
   ]
  },
  {
   "cell_type": "code",
   "execution_count": null,
   "metadata": {},
   "outputs": [],
   "source": [
    "#// BEGIN_TODO [valid_number] Check validity of number (10 points)\n",
    "\n",
    "# ===== =====> Replace this line by your code. <===== ===== #\n",
    "\n",
    "#// END_TODO [valid_number]"
   ]
  },
  {
   "cell_type": "code",
   "execution_count": null,
   "metadata": {},
   "outputs": [],
   "source": [
    "doctest.run_docstring_examples(valid_number, globals(), verbose=True, name='valid_number')"
   ]
  },
  {
   "cell_type": "markdown",
   "metadata": {},
   "source": [
    "Let's find all 2-digit numbers with digit sum 4\n",
    "(expected result is `[13, 22, 31, 40]`):"
   ]
  },
  {
   "cell_type": "code",
   "execution_count": null,
   "metadata": {},
   "outputs": [],
   "source": [
    "[n for n in range(10, 100) if valid_number(n, 4)]"
   ]
  },
  {
   "cell_type": "markdown",
   "metadata": {},
   "source": [
    "Let's count all 5-digit numbers with digit sum 20 (expected result is 4998):"
   ]
  },
  {
   "cell_type": "code",
   "execution_count": null,
   "metadata": {},
   "outputs": [],
   "source": [
    "sum(1 for n in range(10000, 100000) if valid_number(n, 20))"
   ]
  },
  {
   "cell_type": "markdown",
   "metadata": {},
   "source": [
    "### 2.b. Efficiently generate numbers with given digit sum\n",
    "\n",
    "Define recursive generator function `generate_numbers` that,\n",
    "* given integers `k`, `s`, and `prefix`,\n",
    "* where `k >= 0`, `s >= 0`, `prefix >= 0`,\n",
    "* efficiently yields (one by one) each number\n",
    "  that extends `prefix` with \"`k` (decimal) digits having sum `s`\",\n",
    "  exactly once in _ascending_ order.\n",
    "  \n",
    "For this question, the number 0 is considered to have _no_ digits,\n",
    "i.e., it is considered a 0-digit number.\n",
    "Leading zeros are never counted.\n",
    "\n",
    "Thus,\n",
    "`generate_numbers(k, s)` will generate all `k`-digit numbers with digit sum `s`.\n",
    "(Such numbers need not exist!)\n",
    "\n",
    "**Examples**:\n",
    "* See the doctest examples in the given docstring.\n",
    "\n",
    "**Notes**:\n",
    "* Your solution must use recursion (without recursion, the score is 0 points).\n",
    "* For a full score, your generator function must be efficient,\n",
    "  in the sense that it does no more recursive calls than strictly needed.\n",
    "  Inefficient recursive solutions can score at most 8 points.\n",
    "\n",
    "**Hints**:\n",
    "* If `k` equals zero (base case), then yield `prefix` if `s` equals zero,\n",
    "  and otherwise don't yield anything (an extension of no digits has sum zero).\n",
    "* Otherwise (inductive step),\n",
    "  extend the given `prefix` in all possible ways with one digit `d` *that makes sense*.\n",
    "  - Just trying all possible digits as extension is inefficient.\n",
    "  - When `prefix` equals zero, it cannot be extended with a zero,\n",
    "    because that wouldn't add a digit.\n",
    "    So, in that case, the extending digit must be at least one.\n",
    "  - If `s` is large, then `d` cannot be too small (figure out how small;\n",
    "    keep in mind that `k - 1` further digits can only contribute `9 * (k - 1)` to the sum).\n",
    "  - If `s` is small, then `d` cannot be too large (figure out how large).\n",
    "  - `prefix` is extended with digit `d` (`0 <= d <= 9`) by doing `10 * prefix + d`.\n",
    "  - Let recursion solve the remaining problem,\n",
    "    by yielding from the recursive call\n",
    "    with updated `k` and `s`, and extended `prefix`."
   ]
  },
  {
   "cell_type": "code",
   "execution_count": null,
   "metadata": {},
   "outputs": [],
   "source": [
    "def generate_numbers(k: int, s: int, prefix: int = 0) -> Iterator[int]:\n",
    "    \"\"\"Yield (one by one) each number, exactly once,\n",
    "    that extends given number prefix with k more digits having sum s,\n",
    "    in ascending order.\n",
    "    \n",
    "    Assumptions:\n",
    "    * k >= 0 and s >= 0 and prefix >= 0\n",
    "    \n",
    "    >>> list(generate_numbers(0, 0))  # boundary case: no additional digits\n",
    "    [0]\n",
    "    >>> list(generate_numbers(0, 1))  # boundary case: no additional digits\n",
    "    []\n",
    "    >>> list(generate_numbers(0, 0, 1))  # boundary case: no additional digits, starting from 1\n",
    "    [1]\n",
    "    >>> list(generate_numbers(1, 0))  # special case: extending with 1 digit cannot have sum 0\n",
    "    []\n",
    "    >>> list(generate_numbers(1, 7))  # small case\n",
    "    [7]\n",
    "    >>> list(generate_numbers(1, 10))  # special case\n",
    "    []\n",
    "    >>> list(generate_numbers(2, 4, 98))  # general case, with prefix > 0\n",
    "    [9804, 9813, 9822, 9831, 9840]\n",
    "    >>> list(generate_numbers(2, 4))  # general case, with prefix == 0\n",
    "    [13, 22, 31, 40]\n",
    "    >>> sum(1 for _ in generate_numbers(5, 20))  # count all valid 5-digit numbers with sum 20\n",
    "    4998\n",
    "    \"\"\"\n",
    "    \n",
    "#// BEGIN_TODO [generate_numbers] Generate all valid numbers efficiently (10 points)\n",
    "\n",
    "# ===== =====> Replace this line by your code. <===== ===== #\n",
    "\n",
    "#// END_TODO [generate_numbers]"
   ]
  },
  {
   "cell_type": "code",
   "execution_count": null,
   "metadata": {},
   "outputs": [],
   "source": [
    "doctest.run_docstring_examples(generate_numbers, globals(), verbose=True, name='generate_numbers')"
   ]
  },
  {
   "cell_type": "markdown",
   "metadata": {},
   "source": [
    "Check validity of all 4498 numbers of 5 digits with digit sum 20.\n",
    "Print first violation and stop."
   ]
  },
  {
   "cell_type": "code",
   "execution_count": null,
   "metadata": {},
   "outputs": [],
   "source": [
    "for i, n in enumerate(generate_numbers(5, 20), 1):\n",
    "    if not (10000 <= n < 100000 and valid_number(n, 20)):\n",
    "        print(f\"{i:4}: {n:5}\")\n",
    "        break"
   ]
  },
  {
   "cell_type": "markdown",
   "metadata": {},
   "source": [
    "The following four code cells should execute instantly,\n",
    "when your solution is efficient."
   ]
  },
  {
   "cell_type": "code",
   "execution_count": null,
   "metadata": {},
   "outputs": [],
   "source": [
    "list(generate_numbers(8, 1))  # expected list has length 1"
   ]
  },
  {
   "cell_type": "code",
   "execution_count": null,
   "metadata": {},
   "outputs": [],
   "source": [
    "list(generate_numbers(8, 2))  # expected list has length 8"
   ]
  },
  {
   "cell_type": "code",
   "execution_count": null,
   "metadata": {},
   "outputs": [],
   "source": [
    "list(generate_numbers(8, 8 * 9 - 1))  # expected list has length 8"
   ]
  },
  {
   "cell_type": "code",
   "execution_count": null,
   "metadata": {},
   "outputs": [],
   "source": [
    "list(generate_numbers(8, 8 * 9))  # expected list has length 1"
   ]
  },
  {
   "cell_type": "markdown",
   "metadata": {},
   "source": [
    "The following code cell should execute within 15 seconds or so,\n",
    "when your solution is efficient (and if not, it could take a minute)."
   ]
  },
  {
   "cell_type": "code",
   "execution_count": null,
   "metadata": {},
   "outputs": [],
   "source": [
    "sum(1 for _ in generate_numbers(8, 36))  # expected result: 4379055"
   ]
  },
  {
   "cell_type": "markdown",
   "metadata": {},
   "source": [
    "---"
   ]
  },
  {
   "cell_type": "markdown",
   "metadata": {},
   "source": [
    "## 3. Trader's Dilemma (15 points)\n",
    "\n",
    "The _Trader's Dilemma_ is a two-player game, consisting of multiple _rounds_\n",
    "in which both players offer, for trading, a closed box of goods that the other wants.\n",
    "We consider the discrete version of this game,\n",
    "where each player can choose between actually putting\n",
    "the desired goods in the box or not.\n",
    "The former is known as _cooperating_ ($C$) and the latter as _defecting_ ($D$).\n",
    "\n",
    "Let the players be $A$ and $B$, and their respective choices in a round be $a$ and $b$.\n",
    "For this round,\n",
    "the payoff for player $A$ is denoted by $p_A(a, b)$ and for player $B$ by $p_B(a, b)$.\n",
    "The payoffs are defined by\n",
    "\n",
    "$$\\begin{array}{c|c}\n",
    "  p_A(C, C) = 3 & p_A(C, D) = 0 \\\\\n",
    "  \\hline\n",
    "  p_A(D, C) = 5 & p_A(D, D) = 1\n",
    "\\end{array}\\qquad\n",
    "\\begin{array}{c|c}\n",
    "  p_B(C, C) = 3 & p_B(C, D) = 5 \\\\\n",
    "  \\hline\n",
    "  p_B(D, C) = 0 & p_B(D, D) = 1\n",
    "\\end{array}$$\n",
    "\n",
    "Note that $p_A(a, b) = p_B(b, a)$.\n",
    "\n",
    "Regardless of what $B$ does, $A$'s optimal choice is to defect\n",
    "(by leaving the box empty):\n",
    "* In the left column for $p_A$, when $B$ choses to cooperate ($C$),\n",
    "  $A$ is better off defecting ($D$), which yields 5 rather than 3.\n",
    "* In the right column for $p_A$, when $B$ choses to defect ($D$),\n",
    "  $A$ is better off defecting ($D$), which yields 1 rather than 0.\n",
    "  \n",
    "The same reasoning applies to player $B$ (consider the rows of $p_B$).\n",
    "\n",
    "However, if both players follow the same reasoning and therefore make the same choice,\n",
    "then they both get only 1 when both choose to defect.\n",
    "If both would have chosen to cooperate,\n",
    "they would have obtained more, viz. 3.\n",
    "So, that is the dilemma.\n",
    "\n",
    "Here is Python code for the payoff functions."
   ]
  },
  {
   "cell_type": "code",
   "execution_count": null,
   "metadata": {},
   "outputs": [],
   "source": [
    "DEFECT = 0  # empty box\n",
    "COOPERATE = 1  # full box\n",
    "CHOICES = {DEFECT: \"D\", COOPERATE: \"C\"}\n",
    "Choice = int  # in CHOICES.keys()\n",
    "PAYOFFS = ((1, 5), (0, 3))\n",
    "\n",
    "def payoff_A(a: Choice, b: Choice) -> int:\n",
    "    \"\"\"Determine payoff for player A when A chose a and B chose b.\n",
    "    \n",
    "    >>> payoff_A(COOPERATE, COOPERATE)\n",
    "    3\n",
    "    >>> payoff_A(COOPERATE, DEFECT)\n",
    "    0\n",
    "    >>> payoff_A(DEFECT, COOPERATE)\n",
    "    5\n",
    "    >>> payoff_A(DEFECT, DEFECT)\n",
    "    1\n",
    "    \"\"\"\n",
    "    return PAYOFFS[a][b]\n",
    "\n",
    "def payoff_B(a: Choice, b: Choice) -> int:\n",
    "    \"\"\"Determine payoff for player B when A chose a and B chose b.\n",
    "    \n",
    "    >>> payoff_B(COOPERATE, COOPERATE)\n",
    "    3\n",
    "    >>> payoff_B(COOPERATE, DEFECT)\n",
    "    5\n",
    "    >>> payoff_B(DEFECT, COOPERATE)\n",
    "    0\n",
    "    >>> payoff_B(DEFECT, DEFECT)\n",
    "    1\n",
    "    \"\"\"\n",
    "    return PAYOFFS[b][a]"
   ]
  },
  {
   "cell_type": "code",
   "execution_count": null,
   "metadata": {},
   "outputs": [],
   "source": [
    "doctest.run_docstring_examples(payoff_A, globals(), name='payoff_A')\n",
    "doctest.run_docstring_examples(payoff_B, globals(), name='payoff_B')"
   ]
  },
  {
   "cell_type": "markdown",
   "metadata": {},
   "source": [
    "To avoid code duplication,\n",
    "we program the common behavior of a trader in the base class `Trader`.\n",
    "Each concrete trader can then be programmed in a subclass."
   ]
  },
  {
   "cell_type": "code",
   "execution_count": null,
   "metadata": {},
   "outputs": [],
   "source": [
    "class Trader:\n",
    "    \"\"\"Base class for all traders.\n",
    "    Traders have a name.\n",
    "    The default behavior is to raise a NotImplementedError.\n",
    "    \n",
    "    >>> t = Trader('Test')\n",
    "    >>> t\n",
    "    Trader('Test')\n",
    "    >>> t.choose(None)\n",
    "    Traceback (most recent call last):\n",
    "        ...\n",
    "    NotImplementedError: abstract method\n",
    "    \"\"\"\n",
    "    \n",
    "    def __init__(self, name: str) -> None:\n",
    "        \"\"\"Initialize trader object with given name.\n",
    "        \"\"\"\n",
    "        self.name = name\n",
    "            \n",
    "    def __repr__(self) -> str:\n",
    "        return f\"Trader({self.name!r})\"\n",
    "\n",
    "    def choose(self, prev_other: Optional[Choice]) -> Choice:\n",
    "        \"\"\"Make choice, given that other's previous choice was prev_other.\n",
    "        In the first round, prev_other equals None.\n",
    "        \n",
    "        Assumption: prev_other == None or prev_other in Choice\n",
    "        \"\"\"\n",
    "        raise NotImplementedError('abstract method')"
   ]
  },
  {
   "cell_type": "code",
   "execution_count": null,
   "metadata": {},
   "outputs": [],
   "source": [
    "doctest.run_docstring_examples(Trader, globals(), name='Trader')"
   ]
  },
  {
   "cell_type": "markdown",
   "metadata": {},
   "source": [
    "To have some traders for testing, we define the trader that always makes a given choice:"
   ]
  },
  {
   "cell_type": "code",
   "execution_count": null,
   "metadata": {},
   "outputs": [],
   "source": [
    "class Always(Trader):\n",
    "    \"\"\"A trader that always makes a given choice (defined in the contructor).\n",
    "    \n",
    "    >>> a = Always('Nice', COOPERATE)\n",
    "    >>> a\n",
    "    Always('Nice', 1)\n",
    "    >>> a.choose(None)\n",
    "    1\n",
    "    >>> a.choose(COOPERATE)\n",
    "    1\n",
    "    >>> a.choose(DEFECT)\n",
    "    1\n",
    "    >>> b = Always('Bad', DEFECT)\n",
    "    >>> b\n",
    "    Always('Bad', 0)\n",
    "    >>> b.choose(None)\n",
    "    0\n",
    "    >>> b.choose(COOPERATE)\n",
    "    0\n",
    "    >>> b.choose(DEFECT)\n",
    "    0\n",
    "    \"\"\"\n",
    "\n",
    "    def __init__(self, name: str, choice: Choice) -> None:\n",
    "        \"\"\"Initialize always-trader object.\n",
    "        Declare auxiliary attribute.\n",
    "        \"\"\"\n",
    "        super().__init__(name)\n",
    "        self.choice = choice\n",
    "        \n",
    "    # Override (docstring is inherited)\n",
    "    def __repr__(self) -> str:\n",
    "        return f\"Always({self.name!r}, {self.choice})\"\n",
    "        \n",
    "    # Override (docstring is inherited)\n",
    "    def choose(self, prev_other: Optional[Choice]) -> Choice:\n",
    "        return self.choice"
   ]
  },
  {
   "cell_type": "code",
   "execution_count": null,
   "metadata": {},
   "outputs": [],
   "source": [
    "doctest.run_docstring_examples(Always, globals(), name='Always')"
   ]
  },
  {
   "cell_type": "markdown",
   "metadata": {},
   "source": [
    "### 3.a. Playing multiple rounds"
   ]
  },
  {
   "cell_type": "markdown",
   "metadata": {},
   "source": [
    "Define function `play` that plays `n` (`n >= 0`) rounds of the Trader's Dilemma game\n",
    "between two given traders `player_A` and `player_B`, and returns their total payoffs as a tuple.\n",
    "Function `play` has a boolean `verbose` as fourth parameter, with default value `False`,\n",
    "which controls printing of the game record.\n",
    "\n",
    "**Examples**:\n",
    "* See the doctest examples in the given docstring.\n",
    "\n",
    "**Notes**:\n",
    "* Your implementation must be robust, via an `assert` statement,\n",
    "  with message `n must be >= 0`.\n",
    "\n",
    "**Hints**:\n",
    "* Use the given format strings to get the output.\n",
    "* Use dictionary `CHOICES` to get the choice letters from the choice integers.\n",
    "* To test robustness, see how this is done in the base class `Trader`.\n",
    "* In case you cannot solve this, let `play` return `0, 0`,\n",
    "  so that code using `play` does not crash."
   ]
  },
  {
   "cell_type": "code",
   "execution_count": null,
   "metadata": {},
   "outputs": [],
   "source": [
    "TITLE_FMT = \"Round : {:>5} - {:>5}\"\n",
    "ROUND_FMT = \"{:5} : ({}) {} - ({}) {}\"\n",
    "TOTAL_FMT = \"Total : {:5} - {:5}\""
   ]
  },
  {
   "cell_type": "code",
   "execution_count": null,
   "metadata": {},
   "outputs": [],
   "source": [
    "def play(n: int, player_A: Trader, player_B: Trader, verbose: bool = False) -> Tuple[int, int]:\n",
    "    \"\"\"Play n rounds between the given players and return their total payoff as a tuple.\n",
    "    If verbose, then print a game record.\n",
    "\n",
    "    Assumption: n >= 0\n",
    "    \n",
    "    Examples:\n",
    "    \n",
    "    >>> play(-1, Trader('A'), Trader('B'))\n",
    "    Traceback (most recent call last):\n",
    "        ...\n",
    "    AssertionError: n must be >= 0\n",
    "    >>> play(0, Trader('A'), Trader('B'), True)\n",
    "    Round :     A -     B\n",
    "    Total :     0 -     0\n",
    "    (0, 0)\n",
    "    >>> play(10, Always('A', COOPERATE), Always('B', COOPERATE))\n",
    "    (30, 30)\n",
    "    >>> play(2, Always('A', COOPERATE), Always('B', DEFECT), True)\n",
    "    Round :     A -     B\n",
    "        1 : (C) 0 - (D) 5\n",
    "        2 : (C) 0 - (D) 5\n",
    "    Total :     0 -    10\n",
    "    (0, 10)\n",
    "    >>> play(10, Always('A', DEFECT), Always('B', COOPERATE))\n",
    "    (50, 0)\n",
    "    >>> play(10, Always('A', DEFECT), Always('B', DEFECT))\n",
    "    (10, 10)\n",
    "    \"\"\"\n",
    "\n",
    "#// BEGIN_TODO [play] Play multiple rounds (10 points)\n",
    "\n",
    "# ===== =====> Replace this line by your code. <===== ===== #\n",
    "\n",
    "#// END_TODO [play]"
   ]
  },
  {
   "cell_type": "code",
   "execution_count": null,
   "metadata": {},
   "outputs": [],
   "source": [
    "doctest.run_docstring_examples(play, globals(), verbose=True, name='play')"
   ]
  },
  {
   "cell_type": "markdown",
   "metadata": {},
   "source": [
    "### 3.b. The Tit-for-Tat trader\n",
    "\n",
    "Define method `choose` for trader `TitForTat`,\n",
    "which starts by cooperating and then copies the previous choice of the other.\n",
    "\n",
    "**Hints**:\n",
    "* Use `x is None` to check whether `x` has value `None`."
   ]
  },
  {
   "cell_type": "code",
   "execution_count": null,
   "metadata": {},
   "outputs": [],
   "source": [
    "class TitForTat(Trader):\n",
    "    \"\"\"The Tit-for-Tat player starts by cooperating,\n",
    "    and then copies the previous choice of the other.\n",
    "    \n",
    "    >>> t4t = TitForTat('T4T')\n",
    "    >>> t4t\n",
    "    TitForTat('T4T')\n",
    "    >>> t4t.choose(None)\n",
    "    1\n",
    "    >>> t4t.choose(COOPERATE)\n",
    "    1\n",
    "    >>> t4t.choose(DEFECT)\n",
    "    0\n",
    "    >>> t4t.choose(COOPERATE)\n",
    "    1\n",
    "    >>> play(10, t4t, Always('Nice', COOPERATE))\n",
    "    (30, 30)\n",
    "    >>> play(10, t4t, Always('Bad', DEFECT))\n",
    "    (9, 14)\n",
    "    \"\"\"\n",
    "\n",
    "    # Override (docstring is inherited)\n",
    "    def __repr__(self) -> str:\n",
    "        return f\"TitForTat({self.name!r})\"\n",
    "        \n",
    "#// BEGIN_TODO [TitForTat] Define choose for TitForTat (1 point)\n",
    "\n",
    "# ===== =====> Replace this line by your code. <===== ===== #\n",
    "\n",
    "#// END_TODO [TitForTat]"
   ]
  },
  {
   "cell_type": "code",
   "execution_count": null,
   "metadata": {},
   "outputs": [],
   "source": [
    "doctest.run_docstring_examples(TitForTat, globals(), verbose=True, name='TitForTat')"
   ]
  },
  {
   "cell_type": "markdown",
   "metadata": {},
   "source": [
    "### 3.c. The alternating trader\n",
    "\n",
    "Define methods `__init__` and `choose` for trader `Alternate`,\n",
    "which starts by cooperating and then alternates its choices."
   ]
  },
  {
   "cell_type": "code",
   "execution_count": null,
   "metadata": {},
   "outputs": [],
   "source": [
    "class Alternate(Trader):\n",
    "    \"\"\"The alternating player starts by cooperating,\n",
    "    and then alternates its choices.\n",
    "    \n",
    "    >>> alt = Alternate('Alt')\n",
    "    >>> alt\n",
    "    Alternate('Alt')\n",
    "    >>> alt.choose(None)\n",
    "    1\n",
    "    >>> alt.choose(COOPERATE)\n",
    "    0\n",
    "    >>> alt.choose(COOPERATE)\n",
    "    1\n",
    "    >>> alt.choose(DEFECT)\n",
    "    0\n",
    "    >>> alt.choose(DEFECT)\n",
    "    1\n",
    "    >>> alt.choose(None)\n",
    "    1\n",
    "    >>> play(10, alt, Always('Nice', COOPERATE))\n",
    "    (40, 15)\n",
    "    >>> play(10, alt, Always('Bad', DEFECT))\n",
    "    (5, 30)\n",
    "    \"\"\"\n",
    "\n",
    "    # Override (docstring is inherited)\n",
    "    def __repr__(self) -> str:\n",
    "        return f\"Alternate({self.name!r})\"\n",
    "        \n",
    "#// BEGIN_TODO [Alternate] Define __init__ and choose for Alternate (4 points)\n",
    "\n",
    "# ===== =====> Replace this line by your code. <===== ===== #\n",
    "\n",
    "#// END_TODO [Alternate]"
   ]
  },
  {
   "cell_type": "code",
   "execution_count": null,
   "metadata": {},
   "outputs": [],
   "source": [
    "doctest.run_docstring_examples(Alternate, globals(), verbose=True, name='Alternate')"
   ]
  },
  {
   "cell_type": "markdown",
   "metadata": {},
   "source": [
    "---"
   ]
  },
  {
   "cell_type": "markdown",
   "metadata": {},
   "source": [
    "## Final business\n",
    "\n",
    "<div class=\"alert alert-warning\" role=\"alert\">\n",
    "    <b>ALWAYS RUN THIS NOTEBOOK WITH <code>Kernel > Restart & Run All</code> BEFORE SUBMITTING</b>\n",
    "</div>"
   ]
  },
  {
   "cell_type": "code",
   "execution_count": null,
   "metadata": {},
   "outputs": [],
   "source": [
    "doctest.testmod(verbose=False)  # without details"
   ]
  },
  {
   "cell_type": "code",
   "execution_count": null,
   "metadata": {},
   "outputs": [],
   "source": [
    "%whos"
   ]
  },
  {
   "cell_type": "markdown",
   "metadata": {},
   "source": [
    "---\n",
    "\n",
    "## (End of Notebook)\n",
    "\n",
    "&copy; 2022 - **TU/e** - Eindhoven University of Technology"
   ]
  }
 ],
 "metadata": {
  "kernelspec": {
   "display_name": "Python 3 (ipykernel)",
   "language": "python",
   "name": "python3"
  },
  "language_info": {
   "codemirror_mode": {
    "name": "ipython",
    "version": 3
   },
   "file_extension": ".py",
   "mimetype": "text/x-python",
   "name": "python",
   "nbconvert_exporter": "python",
   "pygments_lexer": "ipython3",
   "version": "3.9.7"
  }
 },
 "nbformat": 4,
 "nbformat_minor": 4
}
