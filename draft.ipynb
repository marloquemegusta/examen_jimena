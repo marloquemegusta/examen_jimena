{
  "cells": [
    {
      "cell_type": "markdown",
      "metadata": {
        "id": "eFpxkK6qcVai"
      },
      "source": [
        "# Personal notes\n",
        "\n",
        "<div class=\"alert alert-warning\" role=\"alert\">\n",
        "    <b><i>ALWAYS</i> RUN THIS NOTEBOOK WITH <code>Kernel > Restart & Run All</code> <i>BEFORE</i> SUBMITTING</b>\n",
        "</div>"
      ]
    },
    {
      "cell_type": "markdown",
      "metadata": {
        "id": "dpJX4zbFcVam"
      },
      "source": [
        "AUTHOR_NAME = 'Your Full Name'\n",
        "AUTHOR_ID_NR = '1234567'\n",
        "AUTHOR_DATE = 'YYYY-MM-DD' \n",
        "# Introduction to this template exam notebook\n",
        "\n",
        "* This is a **personal** notebook. \n",
        "* Make sure you work in a **copy** of `...-template.ipynb`,\n",
        "    **renamed** to `...-yourIDnr.ipynb`,\n",
        "    where `yourIDnr` is your TU/e identification number.  \n",
        "\n",
        "You are expected to work with Python 3 code in this notebook.\n",
        "\n",
        "The locations where you must write your answers can be recognized by\n",
        "**marker lines**,\n",
        "which look like this:\n",
        "\n",
        ">`#//`\n",
        ">    `BEGIN_TODO [Label]` `Description` `(n points)`\n",
        ">\n",
        ">`#//`\n",
        ">    `END_TODO [Label]`\n",
        "\n",
        "<div class=\"alert alert-warning\" role=\"alert\">Do NOT modify or delete these marker lines.  Keep them as they are.<br/>\n",
        "<br/>\n",
        "NEVER write code that is needed for grading <i>outside</i> the marked blocks.\n",
        "It is invisible there.\n",
        "</div>\n",
        "\n",
        "Proceed in this notebook as follows:\n",
        "* **Personalize** the notebook (see below)\n",
        "* **Read** the text.\n",
        "* **Fill in** your answers between `BEGIN_TODO` and `END_TODO` marker lines.\n",
        "* **Run** _all_ code cells (also the ones _without_ your code),\n",
        "    _in linear order_ from the first code cell.\n",
        "\n",
        "**Personalize your notebook**:\n",
        "1. Copy the following lines of code:\n",
        "\n",
        "  ```python\n",
        "  AUTHOR_NAME = 'Your Full Name'\n",
        "  AUTHOR_ID_NR = '1234567'\n",
        "  AUTHOR_DATE = 'YYYY-MM-DD'  # when first modified, e.g. '2019-04-18'\n",
        "  ```\n",
        "\n",
        "1. Paste them between the marker lines in the next code cell.\n",
        "1. Fill in your _full name_, _identification number_, and the current _date_ as strings between quotes.\n",
        "1. Run the code cell by putting the cursor there and typing **Control-Enter**.\n"
      ]
    },
    {
      "cell_type": "code",
      "execution_count": 1,
      "metadata": {
        "colab": {
          "base_uri": "https://localhost:8080/"
        },
        "id": "QCME9komcVan",
        "outputId": "b8eef3d5-0918-4173-d610-c4fa0c370ab4"
      },
      "outputs": [
        {
          "output_type": "execute_result",
          "data": {
            "text/plain": [
              "('Jimena Botella Baena', '1717537', '2022-07-07')"
            ]
          },
          "metadata": {},
          "execution_count": 1
        }
      ],
      "source": [
        "#// BEGIN_TODO [Author] Name, Id.nr., Date, as strings (0 points)\n",
        "\n",
        "AUTHOR_NAME = 'Jimena Botella Baena'\n",
        "AUTHOR_ID_NR = '1717537'\n",
        "AUTHOR_DATE = '2022-07-07' \n",
        "#// END_TODO [Author]\n",
        "\n",
        "AUTHOR_NAME, AUTHOR_ID_NR, AUTHOR_DATE"
      ]
    },
    {
      "cell_type": "markdown",
      "metadata": {
        "id": "uWxbYcIzcVap"
      },
      "source": [
        "## Preliminaries\n",
        "\n",
        "This final test consists of _three_ questions,\n",
        "with _seven_ subquestions in total, for a maximum total of _50 points._\n",
        "It will be graded manually.\n",
        "\n",
        "**Notes** state requirements.\n",
        "It is obligatory to follow these for the maximum score.\n",
        "\n",
        "**Hints** are helpful suggestions and reminders, but these are not mandatory.\n",
        "\n",
        "**Notes**:\n",
        "\n",
        "For all functions and methods that you are asked to define:\n",
        "* Include **type hints**.\n",
        "* Include documentation in the form of a **docstring**, with **assumptions**.\n",
        "* Unless otherwise stated, include **adequate `doctest` examples**.  \n",
        "  Such `doctest` examples are only required for the primary functions;\n",
        "  that is, not for _auxiliary_ functions that you introduce yourself.\n",
        "  \n",
        "**Hints**:\n",
        "* When you do not succeed in solving part of a question,\n",
        "  proceed to the next part, assuming that solutions for preceding parts are available.  \n",
        "  (Of course, this does make it harder for you to test your code,\n",
        "  but you can define a 'dummy' solution to be able to run your code.)"
      ]
    },
    {
      "cell_type": "code",
      "execution_count": 2,
      "metadata": {
        "colab": {
          "base_uri": "https://localhost:8080/",
          "height": 36
        },
        "id": "KGoULRrpcVaq",
        "outputId": "efecc0b7-9548-4be0-a84a-c990e23f2871"
      },
      "outputs": [
        {
          "output_type": "execute_result",
          "data": {
            "text/plain": [
              "'35.227.176.224'"
            ],
            "application/vnd.google.colaboratory.intrinsic+json": {
              "type": "string"
            }
          },
          "metadata": {},
          "execution_count": 2
        }
      ],
      "source": [
        "# import some useful facilities\n",
        "\n",
        "import random\n",
        "import math\n",
        "import string\n",
        "import collections as co\n",
        "from collections import defaultdict, deque\n",
        "import itertools as it\n",
        "from itertools import product, chain, islice\n",
        "from typing import Tuple, List, Set, Dict, DefaultDict, Counter, Deque, Iterator, Iterable\n",
        "from typing import Any, Union, Optional, Sequence, Mapping, Callable\n",
        "import doctest\n",
        "from pprint import pprint\n",
        "def _ip():\n",
        "    global _ip\n",
        "    import urllib.request\n",
        "    try:\n",
        "        return urllib.request.urlopen(\"https://api.ipify.org/\").read().decode()\n",
        "    except:\n",
        "        pass\n",
        "    finally:\n",
        "        del _ip\n",
        "_ip()"
      ]
    },
    {
      "cell_type": "markdown",
      "metadata": {
        "id": "OHlQNG-8cVar"
      },
      "source": [
        "## 0. Laptop Exam Specials"
      ]
    },
    {
      "cell_type": "markdown",
      "metadata": {
        "id": "M90aDbphcVar"
      },
      "source": [
        "### 0.a. Declaration of trust\n",
        "\n",
        "Please read the following paragraph carefully, and acknowledge that you have done so\n",
        "in the next code cell.\n",
        "\n",
        "> By testing you using a computer with internet access,\n",
        "> we express our trust that you will adhere\n",
        "> to the ethical standard of behaviour expected of you.\n",
        "> This means that we trust you to answer the questions and\n",
        "> perform the assignments in this test to the best of your own ability,\n",
        "> without seeking or accepting the help of any source\n",
        "> that is not explicitly allowed by the conditions of this test.\n",
        "\n",
        "Acknowledge by assigning the boolean value `True` to the variable `I_confirm`:"
      ]
    },
    {
      "cell_type": "code",
      "execution_count": 3,
      "metadata": {
        "colab": {
          "base_uri": "https://localhost:8080/"
        },
        "id": "l0Gv1DrDcVas",
        "outputId": "b13195c3-f374-4f1b-d748-876d7652d72f"
      },
      "outputs": [
        {
          "output_type": "execute_result",
          "data": {
            "text/plain": [
              "True"
            ]
          },
          "metadata": {},
          "execution_count": 3
        }
      ],
      "source": [
        "I_confirm: Optional[bool] = None\n",
        "\n",
        "#// BEGIN_TODO [Declaration] Confirm by assigning True to I_confirm\n",
        "\n",
        "I_confirm = True\n",
        "#// END_TODO [Declaration]\n",
        "\n",
        "I_confirm"
      ]
    },
    {
      "cell_type": "markdown",
      "metadata": {
        "id": "iwgjH7fpcVas"
      },
      "source": [
        "### 0.b. Remarks from the student\n",
        "\n",
        "In the following text cell, you can report any irregularities\n",
        "that occurred during the exam."
      ]
    },
    {
      "cell_type": "markdown",
      "metadata": {
        "id": "0MxaiNRfcVat"
      },
      "source": [
        "`#// BEGIN_TODO [Remarks] Remarks about irregularities during exam`\n",
        "\n",
        "<div class='alert alert-warning' role='alert'>Replace this line by your text.</div>\n",
        "\n",
        "`#// END_TODO [Remarks]`"
      ]
    },
    {
      "cell_type": "markdown",
      "metadata": {
        "id": "PLDeRCGIcVau"
      },
      "source": [
        "---"
      ]
    },
    {
      "cell_type": "markdown",
      "metadata": {
        "id": "7tKWV5PpcVau"
      },
      "source": [
        "## 1. Temperature Conversion [25 pts]"
      ]
    },
    {
      "cell_type": "markdown",
      "metadata": {
        "id": "Tn7FaDi9cVau"
      },
      "source": [
        "Given is a text file `temperatures.txt` containing temperature in varying units.\n",
        "The file format is as follows:\n",
        "* Lines appear in pairs, where\n",
        "* the first line of a pair contains a floating-point number and\n",
        "* the second line contains a unit (`F` or `C`).\n",
        "\n",
        "For example, the first four lines of the given file contain\n",
        "```\n",
        "50\n",
        "F\n",
        "40\n",
        "C\n",
        "```\n",
        "\n",
        "The goal is to process this file and convert the temperatures to the other unit, where\n",
        "* `F` means convert the preceding value from Fahrenheit to Celsius\n",
        "* `C` means convert the preceding value from Celsius to Fahrenheit"
      ]
    },
    {
      "cell_type": "markdown",
      "metadata": {
        "id": "mV9fzAJ_cVav"
      },
      "source": [
        "### 1.a. Celsius to Fahrenheit and back (10 pts)\n",
        "\n",
        "Define function `convert_temp` that converts between temperatures in Celsius and Fahrenheit.\n",
        "It receives as arguments a temperature (`float`) and a unit (`str`, being either `'C'` or `'F'`).\n",
        "It returns a tuple where the first item is the converted temperature\n",
        "and the second item is the unit of the result.\n",
        "\n",
        "**Examples**:\n",
        "* $0$ degrees Celsius equals $32$ degrees Fahrenheit:\n",
        "  `convert_temp(0, 'C')` returns `(32.0, 'F')`\n",
        "* $50$ degrees Fahrenheit equals $10$ degrees Celsius:\n",
        "  `convert_temp(50, 'F')` returns `(10.0, 'C')`\n",
        "\n",
        "**Notes**:\n",
        "* Use the formula $1.8 c + 32$ to convert $c$ degrees Celsius to Fahrenheit.\n",
        "* Use the formula $\\frac{f - 32}{1.8}$ to convert $f$ degrees Fahrenheit to Celsius.\n",
        "* Make the function robust by raising an `AssertionError: invalid conversion`,\n",
        "  when the provided unit is not valid.\n",
        "* Include at least _five_ (5) `doctest` examples:\n",
        "  * 2 with `unit == 'C'`\n",
        "  * 2 with `unit == 'F'`\n",
        "  * 1 with an invalid `unit`.\n",
        "\n",
        "**Hints**:\n",
        "* Don't forget **type hints**.  \n",
        "  Use `Tuple[float, str]` as type hint for the result.\n",
        "* Include a **docstring** with summary sentence, assumptions, and `doctest` examples.\n",
        "* You can raise an `AssertionError` using the `assert` statement.\n",
        "* You can test for an `AssertionError` by using as expected output\n",
        "  ```\n",
        "  Traceback (most recent call last):\n",
        "    ...\n",
        "  AssertionError: invalid conversion\n",
        "  ```"
      ]
    },
    {
      "cell_type": "code",
      "execution_count": 64,
      "metadata": {
        "id": "T10j3ewmcVav"
      },
      "outputs": [],
      "source": [
        "#// BEGIN_TODO [convert_temp] Convert between C and F (10 points)\n",
        "# this is working fine, I am sure\n",
        "def convert_temp(temp:float,unit:str)->Tuple[float,str]:\n",
        "    '''Convert from celcius to Fahrenheit\n",
        "    >>> convert_temp(0, 'C')\n",
        "    (32.0, 'F')\n",
        "    >>> convert_temp(50, 'F')\n",
        "    (10.0, 'C')\n",
        "    '''\n",
        "    assert unit==\"C\" or unit==\"F\", \"invalid conversion\"\n",
        "    if unit==\"C\":\n",
        "      return (1.8*temp+32,\"F\")\n",
        "    elif unit==\"F\":\n",
        "      return ((temp-32)/1.8,\"C\")\n",
        "    \n",
        "\n",
        "#// END_TODO [convert_temp]"
      ]
    },
    {
      "cell_type": "code",
      "execution_count": 14,
      "metadata": {
        "colab": {
          "base_uri": "https://localhost:8080/"
        },
        "id": "H6ZR7lzocVav",
        "outputId": "b6285d6a-93f1-4e65-805b-9aaaab0a795e"
      },
      "outputs": [
        {
          "output_type": "stream",
          "name": "stdout",
          "text": [
            "Finding tests in convert_temp\n",
            "Trying:\n",
            "    convert_temp(0, 'C')\n",
            "Expecting:\n",
            "    (32.0, 'F')\n",
            "ok\n",
            "Trying:\n",
            "    convert_temp(50, 'F')\n",
            "Expecting:\n",
            "    (10.0, 'C')\n",
            "ok\n"
          ]
        }
      ],
      "source": [
        "doctest.run_docstring_examples(convert_temp, globals(), verbose=True, name='convert_temp')"
      ]
    },
    {
      "cell_type": "markdown",
      "metadata": {
        "id": "YmeN3CHLcVaw"
      },
      "source": [
        "### 1.b. Convert All Termperature Data (10 pts)"
      ]
    },
    {
      "cell_type": "markdown",
      "metadata": {
        "id": "LQcef6NHcVaw"
      },
      "source": [
        "Define function `convert_all` that,\n",
        "given an `Iterable[str]` that has the same format as the text file `temperatures.txt`,\n",
        "does all conversions and prints the results using the format `7.1f`\n",
        "(7 positions with 1 decimal).\n",
        "\n",
        "**Examples**:\n",
        "* See given docstring for details.\n",
        "\n",
        "**Notes**:\n",
        "* Use function `convert_temp` for each temperature conversion.\n",
        "* In case of a bad temperature `t`, print `Bad temperature: 't'`.\n",
        "* In case of an unrecognized unit `x`, print `Bad unit: 'x'`.\n",
        "* In case the iterable does not end with a unit, print `Missing unit`.\n",
        "\n",
        "**Hints**:\n",
        "* Use an auxiliary boolean variable `expect_temp` to keep track of\n",
        "  whether the next item is a temperature or a unit.\n",
        "  (What is its initial value? How does its value change in each iteration of the loop?)\n",
        "* Use an auxiliary string variable `temp` to store the temperature.\n",
        "* Use `float(s)` to convert string `s` to a `float`.  \n",
        "  Do so inside a `try` statement and catch a `ValueError` exception to recognize a bad temperature.\n",
        "* When the loop finishes, you can inspect `expect_temp` to find out whether a unit is missing at the end."
      ]
    },
    {
      "cell_type": "code",
      "execution_count": 71,
      "metadata": {
        "id": "luZFZzYncVaw"
      },
      "outputs": [],
      "source": [
        "# resuelto, está bien\n",
        "def convert_all(data: Iterable[str]) -> None:\n",
        "    \"\"\"Process temperature conversion commands in given iterable and print the results. \n",
        "    \n",
        "    >>> convert_all([])\n",
        "    \n",
        "    >>> convert_all(['10.0', 'F', '40.0', 'C'])\n",
        "    10.0 F =   -12.2 C\n",
        "    40.0 C =   104.0 F\n",
        "    \n",
        "    >>> convert_all(['60', 'S', '40', 'C'])\n",
        "    Bad unit: 'S'\n",
        "    40.0 C =   104.0 F\n",
        "    \n",
        "    >>> convert_all(['50', 'F', '40', 'H'])\n",
        "    50.0 F =   10.0 C\n",
        "    Bad unit: 'H'\n",
        "    \n",
        "    >>> convert_all(['50', 'F', '40-', 'C'])\n",
        "    50.0 F =   10.0 C\n",
        "    Bad temperature: '40-'\n",
        "    \n",
        "    >>> convert_all('50 F -40 C 0.0'.split())\n",
        "    50.0 F =   10.0 C\n",
        "    -40.0 C =   -40.0 F\n",
        "    Missing unit\n",
        "    \"\"\"\n",
        "    \n",
        "#// BEGIN_TODO [convert_all] Convert temperature data (15 points)\n",
        "    for i in range(0,len(data),2):\n",
        "      try:\n",
        "        temp=float(data[i])\n",
        "      except:\n",
        "        print(f\"Bad temperature: '{data[i]}'\")\n",
        "        continue\n",
        "      try:\n",
        "        if (data[i+1]!=\"C\" and data[i+1]!=\"F\"):\n",
        "          print(f\"Bad unit: '{data[i+1]}'\")\n",
        "        else:\n",
        "          unit=data[i+1]\n",
        "          if unit==\"C\":\n",
        "            converted_temp=convert_temp(temp,unit)\n",
        "            print(\"{:.1f}\".format(temp),\"C =  \",\"{:.1f}\".format(converted_temp[0]), converted_temp[1])\n",
        "          elif unit == \"F\":\n",
        "            converted_temp=convert_temp(temp,unit)\n",
        "            print(\"{:.1f}\".format(temp),\"F =  \",\"{:.1f}\".format(converted_temp[0]), converted_temp[1])\n",
        "      except:\n",
        "        print(\"Missing unit\")\n",
        "# ===== =====> Replace this line by your code. <===== ===== #\n",
        "\n",
        "#// END_TODO [convert_all]"
      ]
    },
    {
      "cell_type": "code",
      "execution_count": 73,
      "metadata": {
        "colab": {
          "base_uri": "https://localhost:8080/"
        },
        "id": "Wdcjoi4OcVax",
        "outputId": "eede30c8-779b-497c-9ddb-762437d1355b"
      },
      "outputs": [
        {
          "output_type": "stream",
          "name": "stdout",
          "text": [
            "Finding tests in convert_all\n",
            "Trying:\n",
            "    convert_all([])\n",
            "Expecting nothing\n",
            "ok\n",
            "Trying:\n",
            "    convert_all(['10.0', 'F', '40.0', 'C'])\n",
            "Expecting:\n",
            "    10.0 F =   -12.2 C\n",
            "    40.0 C =   104.0 F\n",
            "ok\n",
            "Trying:\n",
            "    convert_all(['60', 'S', '40', 'C'])\n",
            "Expecting:\n",
            "    Bad unit: 'S'\n",
            "    40.0 C =   104.0 F\n",
            "ok\n",
            "Trying:\n",
            "    convert_all(['50', 'F', '40', 'H'])\n",
            "Expecting:\n",
            "    50.0 F =   10.0 C\n",
            "    Bad unit: 'H'\n",
            "ok\n",
            "Trying:\n",
            "    convert_all(['50', 'F', '40-', 'C'])\n",
            "Expecting:\n",
            "    50.0 F =   10.0 C\n",
            "    Bad temperature: '40-'\n",
            "ok\n",
            "Trying:\n",
            "    convert_all('50 F -40 C 0.0'.split())\n",
            "Expecting:\n",
            "    50.0 F =   10.0 C\n",
            "    -40.0 C =   -40.0 F\n",
            "    Missing unit\n",
            "ok\n"
          ]
        }
      ],
      "source": [
        "doctest.run_docstring_examples(convert_all, globals(), verbose=True, name='convert_all')"
      ]
    },
    {
      "cell_type": "markdown",
      "metadata": {
        "id": "MQEmCoDzcVax"
      },
      "source": [
        "### 1.c. Process Text File (5 pts)\n",
        "\n",
        "Write code\n",
        "* to open, for reading, the text file whose file name is given by `FILE_NAME`;\n",
        "* to strip leading and trailing _whitespace_ from all its lines;\n",
        "* to process the stripped lines using function `convert_all`.\n",
        "\n",
        "**Notes**:\n",
        "* In our test frame, we may assign different values to `FILE_NAME`.\n",
        "\n",
        "**Hints**:\n",
        "* Use a `with ... as f` statement when opening the file.\n",
        "* Use function `str.strip` to strip leading and trailing whitespace.\n",
        "* Use function `map` to apply function `str.strip` to all items in `f`.\n",
        "  - Aternatively, you can use a generator expression instead of `map`."
      ]
    },
    {
      "cell_type": "code",
      "execution_count": 80,
      "metadata": {
        "colab": {
          "base_uri": "https://localhost:8080/"
        },
        "id": "l3WNpj8rcVax",
        "outputId": "151de240-9202-44eb-bf73-e7d9d5b8bd74"
      },
      "outputs": [
        {
          "output_type": "stream",
          "name": "stdout",
          "text": [
            "50.0 F =   10.0 C\n",
            "40.0 C =   104.0 F\n"
          ]
        }
      ],
      "source": [
        "# resuelto, está bien\n",
        "FILE_NAME = 'temperatures.txt'\n",
        "\n",
        "#// BEGIN_TODO [process_file] Process commands in text file (5 points)\n",
        "\n",
        "with open(FILE_NAME) as f:\n",
        "    lines = f.readlines()\n",
        "    stripped_lines=[]\n",
        "    for line in lines:\n",
        "      stripped_lines.append(line.rstrip())\n",
        "convert_all(stripped_lines)\n",
        "\n",
        "#// END_TODO [process_file]"
      ]
    },
    {
      "cell_type": "markdown",
      "metadata": {
        "id": "R2_y7-XwcVax"
      },
      "source": [
        "---"
      ]
    },
    {
      "cell_type": "markdown",
      "metadata": {
        "id": "SBJRlPNLcVay"
      },
      "source": [
        "## 2. Growing Trees [15 pts]\n",
        "\n",
        "This question concerns _binary trees_,\n",
        "where\n",
        "* each _node_ has a string _value_, and\n",
        "* either has _no_ subtrees or _two_ subtrees\n",
        "  (referred to as _first_ and _second_ subtree).\n",
        "\n",
        "We encode such trees in _nested_ tuples:\n",
        "* A tree with value `v` _without_ subtrees is encoded as `(v,)`,\n",
        "  that is, a tuple with a single item.\n",
        "* A tree with value `v` and _two subtrees_ `first` and `second` is encoded as `(v, first, second)`.\n",
        "\n",
        "**Examples**:\n",
        "* `('Root',)`\n",
        "* `('Root', ('First',), ('Second',))`\n",
        "* `('Root', ('1', ('a', ('i',), ('ii',)), ('b',)), ('2', ('c', ('iii',), ('iv',)), ('d',)))`\n",
        "\n",
        "**Notes**:\n",
        "* A tuple with a single item must include a trailing comma.\n",
        "* Binary trees don't need to be _balanced_,\n",
        "  as illustrated in the third example.\n",
        "* Our binary trees always have an _odd_ number of nodes, by construction.\n",
        "\n",
        "Here is a type definition for `BinaryTree`, the type that we use for binary trees:"
      ]
    },
    {
      "cell_type": "code",
      "execution_count": 81,
      "metadata": {
        "id": "VGJod5p2cVay"
      },
      "outputs": [],
      "source": [
        "BinaryTree = Union[Tuple[str], Tuple[str, 'BinaryTree', 'BinaryTree']]"
      ]
    },
    {
      "cell_type": "markdown",
      "metadata": {
        "id": "4nuclUjacVay"
      },
      "source": [
        "This looks like a circular definition,\n",
        "but it is an _inductive_ type definition, where `Tuple[str]` serves as base case."
      ]
    },
    {
      "cell_type": "markdown",
      "metadata": {
        "id": "qrWFQ-dncVay"
      },
      "source": [
        "Given is a (recursive) function that prints a given binary tree:"
      ]
    },
    {
      "cell_type": "code",
      "execution_count": 82,
      "metadata": {
        "id": "0LIVYMuNcVay"
      },
      "outputs": [],
      "source": [
        "def printBT(t: BinaryTree, indent: str = '') -> None:\n",
        "    \"\"\"Print indent followed by t, growing horizontally, with first subtrees above second subtrees.\n",
        "    \n",
        "    Parameter indent is used inside the recursion only.\n",
        "    \n",
        "    >>> printBT(('Test',))\n",
        "    Test\n",
        "    >>> printBT(('Root', ('First',), ('Second',)))\n",
        "    Root\n",
        "    ├── First\n",
        "    └── Second\n",
        "    >>> printBT(('Root', ('1', ('a', ('i',), ('ii',)), ('b',)), ('2', ('c', ('iii',), ('iv',)), ('d',))))\n",
        "    Root\n",
        "    ├── 1\n",
        "    │   ├── a\n",
        "    │   │   ├── i\n",
        "    │   │   └── ii\n",
        "    │   └── b\n",
        "    └── 2\n",
        "        ├── c\n",
        "        │   ├── iii\n",
        "        │   └── iv\n",
        "        └── d\n",
        "    \"\"\"\n",
        "    print(t[0])\n",
        "    if len(t) == 3:\n",
        "        print(f\"{indent}├── \", end='')\n",
        "        printBT(t[1], indent + \"│   \")\n",
        "        print(f\"{indent}└── \", end='')\n",
        "        printBT(t[2], indent + \"    \")"
      ]
    },
    {
      "cell_type": "code",
      "execution_count": 83,
      "metadata": {
        "colab": {
          "base_uri": "https://localhost:8080/"
        },
        "id": "QDNgpMMLcVaz",
        "outputId": "bb70b131-4fd3-4cbd-9c30-b4b2c0da5cca"
      },
      "outputs": [
        {
          "output_type": "stream",
          "name": "stdout",
          "text": [
            "Finding tests in printBT\n",
            "Trying:\n",
            "    printBT(('Test',))\n",
            "Expecting:\n",
            "    Test\n",
            "ok\n",
            "Trying:\n",
            "    printBT(('Root', ('First',), ('Second',)))\n",
            "Expecting:\n",
            "    Root\n",
            "    ├── First\n",
            "    └── Second\n",
            "ok\n",
            "Trying:\n",
            "    printBT(('Root', ('1', ('a', ('i',), ('ii',)), ('b',)), ('2', ('c', ('iii',), ('iv',)), ('d',))))\n",
            "Expecting:\n",
            "    Root\n",
            "    ├── 1\n",
            "    │   ├── a\n",
            "    │   │   ├── i\n",
            "    │   │   └── ii\n",
            "    │   └── b\n",
            "    └── 2\n",
            "        ├── c\n",
            "        │   ├── iii\n",
            "        │   └── iv\n",
            "        └── d\n",
            "ok\n"
          ]
        }
      ],
      "source": [
        "doctest.run_docstring_examples(printBT, globals(), verbose=True, name='printBT')"
      ]
    },
    {
      "cell_type": "markdown",
      "metadata": {
        "id": "yBUiLkcXcVaz"
      },
      "source": [
        "### 2.a. Generate All Binary Trees (10 pts)\n",
        "\n",
        "Define _recursive_ function `generateBT` to generate all binary trees with a given number of nodes.\n",
        "The docstring is given, including three doctest examples.\n",
        "\n",
        "**Notes**:\n",
        "* The values in these trees are strings obtained from sequence numbers starting at `v` (default value 0).\n",
        "* Your function definition must be recursive.\n",
        "\n",
        "**Hints**:\n",
        "* You can convert integer `n` to a string by `str(n)`.\n",
        "* The base case is when `n` equals 1, in which case you need to yield a node\n",
        "  with just the string value obtained by converting `v`.\n",
        "* For the step, when `n >= 3`, things become interesting.\n",
        "  - There must then be a first subtree with at least one node\n",
        "    and also a second subtree with at least one node.\n",
        "  \n",
        "  - The whole tree must have `n` nodes.\n",
        "  - The first subtree can have 1 through `n - 2` nodes\n",
        "    (we subtracted the root node and a node for the second tree).\n",
        "    Let's call that number `k1`.\n",
        "  - The second subtree also can have 1 through `n - 2` nodes.\n",
        "    Let's call that number `k2`.\n",
        "  - Those first subtrees start numbering with `v + 1`.\n",
        "  - Those second subtrees start numbering from `v + 1 + k1`.\n",
        "  - You can use three nested `for`-loops:\n",
        "    - `k1` ranges from 1 through `n - 2`, and `k2` can then be computed.\n",
        "    - `first` ranges over all recursively generated trees of size `k1` starting with `v + 1`.\n",
        "    - `second` similarly ranges over all recursively generated trees of size `k2` starting with `v + 1 + k1`.\n",
        "    - Inside those loops, yield a triple with value `v`, `first`, and `second`."
      ]
    },
    {
      "cell_type": "code",
      "execution_count": null,
      "metadata": {
        "id": "OhOCgNtGcVaz"
      },
      "outputs": [],
      "source": [
        "def generateBT(n: int, v: int = 0) -> Iterator[BinaryTree]:\n",
        "    \"\"\"Yield, one by one, all binary trees with n nodes,\n",
        "    where the values range from v through v + n - 1 as strings.\n",
        "    The values are distributed such that the root of the tree has the lowest number,\n",
        "    and the values in the first subtree are all less than the values in the second subtree.\n",
        "    \n",
        "    Smaller first subtrees are generated before larger first subtrees.\n",
        "    \n",
        "    Assumptions: n >= 1 and n % 2 == 1\n",
        "    \n",
        "    >>> for t in generateBT(1): printBT(t)\n",
        "    0\n",
        "    >>> for t in generateBT(3): printBT(t)\n",
        "    0\n",
        "    ├── 1\n",
        "    └── 2\n",
        "    >>> for t in generateBT(5): printBT(t)\n",
        "    0\n",
        "    ├── 1\n",
        "    └── 2\n",
        "        ├── 3\n",
        "        └── 4\n",
        "    0\n",
        "    ├── 1\n",
        "    │   ├── 2\n",
        "    │   └── 3\n",
        "    └── 4\n",
        "    \"\"\"\n",
        "#// BEGIN_TODO [generateBT] Generate all binary trees with given number of nodes (10 points)\n",
        "\n",
        "# ===== =====> Replace this line by your code. <===== ===== #\n",
        "\n",
        "#// END_TODO [generateBT]"
      ]
    },
    {
      "cell_type": "code",
      "execution_count": null,
      "metadata": {
        "id": "kAOoW_-WcVa0"
      },
      "outputs": [],
      "source": [
        "doctest.run_docstring_examples(generateBT, globals(), verbose=True, name='generateBT')"
      ]
    },
    {
      "cell_type": "markdown",
      "metadata": {
        "id": "J5FYpXPDcVa0"
      },
      "source": [
        "There are 5 binary trees with 7 nodes:"
      ]
    },
    {
      "cell_type": "code",
      "execution_count": null,
      "metadata": {
        "id": "y3JLHCA-cVa0"
      },
      "outputs": [],
      "source": [
        "for t in generateBT(7):\n",
        "    printBT(t)"
      ]
    },
    {
      "cell_type": "markdown",
      "metadata": {
        "id": "wqu3-4lJcVa0"
      },
      "source": [
        "### 2.b. Catalan Numbers (5 pt)\n",
        "\n",
        "Let's count the number of binary trees where the number of nodes varies from 1 up (in steps of 2).\n",
        "These numbers are the famous Catalan numbers:\n",
        "sequence A000108 in the OEIS (Online Encyclopedia of Integer Sequences).\n",
        "\n",
        "**Notes**:\n",
        "* You don't need to define a function.\n",
        "* You must put the first `M` Catalan numbers in a list named `catalan`.\n",
        "* We have set `M` to 12, but Momotor may test with a different value.\n",
        "  Your code must work for any `M >= 0`.\n",
        "\n",
        "**Hints**:\n",
        "* Use a list comprehension to collect the counts.\n",
        "* You can give a step size in `range`: `range(start, stop, step)`.\n",
        "* Compute the counts using `sum(1 for ...)` with a generator expression\n",
        "  to traverse all binary trees of a given size,\n",
        "  as generated by `generateBT`."
      ]
    },
    {
      "cell_type": "code",
      "execution_count": 88,
      "metadata": {
        "colab": {
          "base_uri": "https://localhost:8080/"
        },
        "id": "LwnbGWoocVa1",
        "outputId": "c176e8e1-4073-4d1a-e245-1d5454cc44ef"
      },
      "outputs": [
        {
          "output_type": "execute_result",
          "data": {
            "text/plain": [
              "[1, 1, 2, 5, 14, 42, 132, 429, 1430, 4862, 16796, 58786]"
            ]
          },
          "metadata": {},
          "execution_count": 88
        }
      ],
      "source": [
        "# esto está bien \n",
        "M = 12  # In our test cases, we use a different value\n",
        "\n",
        "catalan: List[int]\n",
        "\n",
        "#// BEGIN_TODO [catalan] Compute list of first M Catalan numbers (5 points)\n",
        "\n",
        "catalan=[]\n",
        "for n in range(M):\n",
        "  \n",
        "  if n <= 1:\n",
        "    catalan.append( 1)\n",
        "  else:\n",
        "    carry=0\n",
        "    for i in range(n):\n",
        "        carry += catalan[i] * catalan[n-i-1]\n",
        "    catalan.append(carry)\n",
        " \n",
        " \n",
        "# # Driver Program to test above function\n",
        "# for i in range(10):\n",
        "#     print(catalan(i), end=' ')\n",
        "\n",
        "# #// END_TODO [catalan]\n",
        "\n",
        "catalan"
      ]
    },
    {
      "cell_type": "markdown",
      "metadata": {
        "id": "HTCW2vencVa1"
      },
      "source": [
        "If you made no mistake, the result should be computed in about 1 second and should read:\n",
        "\n",
        "```\n",
        "[1, 1, 2, 5, 14, 42, 132, 429, 1430, 4862, 16796, 58786]\n",
        "```"
      ]
    },
    {
      "cell_type": "markdown",
      "metadata": {
        "id": "PwE5c1I1cVa1"
      },
      "source": [
        "---"
      ]
    },
    {
      "cell_type": "markdown",
      "metadata": {
        "id": "Y20yU7WBcVa1"
      },
      "source": [
        "## 3. A Tournament with Class [10 pts]\n",
        "\n",
        "We want to play a tournament with a group of competitors,\n",
        "where each competitor competes against every other competitor."
      ]
    },
    {
      "cell_type": "markdown",
      "metadata": {
        "id": "Jl6gHW5icVa2"
      },
      "source": [
        "### Base Class `Competitor`\n",
        "\n",
        "In the base class `Competitor` below,\n",
        "we have already defined methods `__init__`, `__repr__`, and `compete`."
      ]
    },
    {
      "cell_type": "code",
      "execution_count": null,
      "metadata": {
        "id": "c7FpZNd2cVa2"
      },
      "outputs": [],
      "source": [
        "class Competitor:\n",
        "    \"\"\"\n",
        "    Base class for (immutable) competitors.\n",
        "    \n",
        "    >>> c = Competitor('Test')\n",
        "    >>> c\n",
        "    Competitor('Test')\n",
        "    >>> c.compete()\n",
        "    Traceback (most recent call last):\n",
        "      ...\n",
        "    NotImplementedError: abstract method (override in subclass)\n",
        "    \"\"\"\n",
        "    \n",
        "    def __init__(self, name: str) -> None:\n",
        "        \"\"\"Initialize competitor object.\n",
        "        \"\"\"\n",
        "        self.name = name\n",
        "\n",
        "    def __repr__(self) -> str:\n",
        "        return f\"Competitor({self.name!r})\"\n",
        "    \n",
        "    def compete(self) -> int:\n",
        "        \"\"\"Return competitor's performance.\n",
        "        \"\"\"\n",
        "        # default behavior; can be redefined in subclass\n",
        "        raise NotImplementedError(\"abstract method (override in subclass)\")"
      ]
    },
    {
      "cell_type": "code",
      "execution_count": null,
      "metadata": {
        "id": "Y6uA_hXacVa2"
      },
      "outputs": [],
      "source": [
        "doctest.run_docstring_examples(Competitor, globals(), verbose=True, name='Competitor')"
      ]
    },
    {
      "cell_type": "markdown",
      "metadata": {
        "id": "3Uf9yzLfcVa2"
      },
      "source": [
        "### 3.a. Constant Competitor (4 pts)\n",
        "\n",
        "Complete the following definition of class `Constant` that is a subclass of `Competitor` by defining the methods\n",
        "* `__init__`\n",
        "* `compete`\n",
        "\n",
        "**Hints**:\n",
        "* See the given `doctest` examples for details.\n",
        "* In `__init__`, use `super()` to set the name.\n",
        "* Store the level in instance variable `self.level`."
      ]
    },
    {
      "cell_type": "code",
      "execution_count": null,
      "metadata": {
        "id": "jOizm_8qcVa2"
      },
      "outputs": [],
      "source": [
        "class Constant(Competitor):\n",
        "    \"\"\"\n",
        "    A competitor who always performs at the same level (given in the constructor).\n",
        "    \n",
        "    >>> a = Constant('A', 1)\n",
        "    >>> a\n",
        "    Constant('A', 1)\n",
        "    >>> a.compete()\n",
        "    1\n",
        "    >>> b = Constant('B', 2)\n",
        "    >>> b\n",
        "    Constant('B', 2)\n",
        "    >>> b.compete()\n",
        "    2\n",
        "    \"\"\"\n",
        "\n",
        "    def __repr__(self) -> str:\n",
        "        return f\"Constant({self.name!r}, {self.level})\"\n",
        "    \n",
        "#// BEGIN_TODO [init_and_compete] Initialize and compete (4 points)\n",
        "\n",
        "# ===== =====> Replace this line by your code. <===== ===== #\n",
        "\n",
        "#// END_TODO [init_and_compete]"
      ]
    },
    {
      "cell_type": "code",
      "execution_count": null,
      "metadata": {
        "id": "Nmo_qFrUcVa3"
      },
      "outputs": [],
      "source": [
        "doctest.run_docstring_examples(Constant, globals(), verbose=True, name='Constant')"
      ]
    },
    {
      "cell_type": "markdown",
      "metadata": {
        "id": "bWqKT0uzcVa3"
      },
      "source": [
        "### 3.b. Class `Tournament` (6 pts)\n",
        "\n",
        "Complete the following definition of mutable class `Tournament` that has a collection of competitors.\n",
        "It supports adding competitors to the tournament and letting all competitors compete against each other.\n",
        "\n",
        "**Notes**:\n",
        "* See the given `doctest` examples for details.\n",
        "* If `t.compete_all()` returns `cnt`, then `cnt[c]` is the final score of competitor `c`.\n",
        "* Competitors never compete against themselves.\n",
        "* For each competition between a pair of competitors,\n",
        "  call their respective `compete()` methods _only once_.\n",
        "* A competitor who wins (performs better) scores 3 points and the loser gets nothing.\n",
        "* When competitors tie, each gets 1 point.\n",
        "\n",
        "**Hints**:\n",
        "* Use `it.combinations(items, 2)` to traverse all unordered pairs of distinct items."
      ]
    },
    {
      "cell_type": "code",
      "execution_count": null,
      "metadata": {
        "id": "zqRDWWFCcVa3"
      },
      "outputs": [],
      "source": [
        "# Hint\n",
        "list(it.combinations(range(4), 2))"
      ]
    },
    {
      "cell_type": "code",
      "execution_count": null,
      "metadata": {
        "id": "7G3b_R25cVa3"
      },
      "outputs": [],
      "source": [
        "class Tournament:\n",
        "    \"\"\"A mutable class containing competitors, and a way to let all pairs play.\n",
        "    \n",
        "    >>> t = Tournament()\n",
        "    >>> t\n",
        "    Tournament([])\n",
        "    >>> t.compete_all()\n",
        "    Counter()\n",
        "    >>> t.add(Constant('A', 1))\n",
        "    >>> t.add(Constant('B', 2))\n",
        "    >>> t.add(Constant('C', 2))\n",
        "    >>> t.add(Constant('D', 1))\n",
        "    >>> t\n",
        "    Tournament([Constant('A', 1), Constant('B', 2), Constant('C', 2), Constant('D', 1)])\n",
        "    >>> t.compete_all()\n",
        "    Counter({Constant('B', 2): 7, Constant('C', 2): 7, Constant('A', 1): 1, Constant('D', 1): 1})\n",
        "    \"\"\"\n",
        "    \n",
        "    def __init__(self, competitors=None) -> None:\n",
        "        \"\"\"Initialize tournament object.\n",
        "        \"\"\"\n",
        "        self.competitors: List[Competitor] = [] if competitors is None else competitors\n",
        "    \n",
        "    def __repr__(self) -> str:\n",
        "        return f\"Tournament({self.competitors!r})\"\n",
        "    \n",
        "    def add(self, competitor: Competitor) -> None:\n",
        "        \"\"\"Add a competitor to the tournament.\n",
        "        \"\"\"\n",
        "        self.competitors.append(competitor)\n",
        "        \n",
        "    def compete_all(self) -> Counter[Competitor]:\n",
        "        \"\"\"Let each competitor compete once against every other competitor,\n",
        "        and return the competition results (total score per competitor).\n",
        "        \"\"\"\n",
        "#// BEGIN_TODO [compete_all] Play all competitors (6 points)\n",
        "\n",
        "# ===== =====> Replace this line by your code. <===== ===== #\n",
        "\n",
        "#// END_TODO [compete_all]"
      ]
    },
    {
      "cell_type": "code",
      "execution_count": null,
      "metadata": {
        "id": "gaXxsyg4cVa4"
      },
      "outputs": [],
      "source": [
        "doctest.run_docstring_examples(Tournament, globals(), verbose=True, name='Tournament')"
      ]
    },
    {
      "cell_type": "markdown",
      "metadata": {
        "id": "II8Oy9HCcVa4"
      },
      "source": [
        "---"
      ]
    },
    {
      "cell_type": "markdown",
      "metadata": {
        "id": "hdv0iOqOcVa4"
      },
      "source": [
        "## Final business"
      ]
    },
    {
      "cell_type": "code",
      "execution_count": null,
      "metadata": {
        "id": "3j_sBXEIcVa4"
      },
      "outputs": [],
      "source": [
        "doctest.testmod(verbose=False)  # with details"
      ]
    },
    {
      "cell_type": "code",
      "execution_count": null,
      "metadata": {
        "id": "bw-0vlijcVa4"
      },
      "outputs": [],
      "source": [
        "%whos"
      ]
    },
    {
      "cell_type": "markdown",
      "metadata": {
        "id": "GipSTxcHcVa4"
      },
      "source": [
        "---\n",
        "\n",
        "## (End of Notebook)\n",
        "\n",
        "&copy; 2022 - **TU/e** - Eindhoven University of Technology"
      ]
    }
  ],
  "metadata": {
    "kernelspec": {
      "display_name": "Python 3 (ipykernel)",
      "language": "python",
      "name": "python3"
    },
    "language_info": {
      "codemirror_mode": {
        "name": "ipython",
        "version": 3
      },
      "file_extension": ".py",
      "mimetype": "text/x-python",
      "name": "python",
      "nbconvert_exporter": "python",
      "pygments_lexer": "ipython3",
      "version": "3.9.7"
    },
    "colab": {
      "name": "2WH20-Exam-20220707-1717537.ipynb",
      "provenance": [],
      "collapsed_sections": [
        "7tKWV5PpcVau",
        "YmeN3CHLcVaw"
      ]
    }
  },
  "nbformat": 4,
  "nbformat_minor": 0
}